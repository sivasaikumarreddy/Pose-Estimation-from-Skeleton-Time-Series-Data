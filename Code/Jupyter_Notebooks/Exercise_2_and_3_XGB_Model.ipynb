{
 "cells": [
  {
   "cell_type": "markdown",
   "id": "3b02a43f",
   "metadata": {},
   "source": [
    "# GROUP 2 - PORTFOLIO 3"
   ]
  },
  {
   "cell_type": "markdown",
   "id": "f0190c72",
   "metadata": {},
   "source": [
    "# Movement classification from elderly people charade games"
   ]
  },
  {
   "cell_type": "markdown",
   "id": "2fe8cf60",
   "metadata": {},
   "source": [
    "Tamara Bergerhoff, Alexander Prisak, Dhruval Bhuva, Vishwa Rajput, Siva Sai Kumar Reddy Kachana, Gurudeep Haleangadi Nagesh"
   ]
  },
  {
   "cell_type": "code",
   "execution_count": 43,
   "id": "49fab15b",
   "metadata": {},
   "outputs": [],
   "source": [
    "import pandas as pd\n",
    "import numpy as np\n",
    "import matplotlib.pyplot as plt\n",
    "import seaborn as sns\n",
    "import time\n",
    "import os\n",
    "import glob\n",
    "import xgboost as xgb\n",
    "import time\n",
    "import tracemalloc\n",
    "import plotly.express as px\n",
    "\n",
    "from sklearn.preprocessing import LabelEncoder\n",
    "from sklearn.preprocessing import Normalizer , StandardScaler\n",
    "from sklearn.ensemble import RandomForestClassifier\n",
    "from sklearn.metrics import classification_report , confusion_matrix , ConfusionMatrixDisplay\n",
    "from sklearn.ensemble import RandomForestClassifier\n",
    "from sklearn.metrics import accuracy_score\n",
    "from sklearn.metrics import accuracy_score\n",
    "\n",
    "import warnings\n",
    "warnings.filterwarnings(\"ignore\")"
   ]
  },
  {
   "cell_type": "markdown",
   "id": "07b208fa",
   "metadata": {},
   "source": [
    "# Exercise2: ‘Embedding and Modeling ’"
   ]
  },
  {
   "cell_type": "markdown",
   "id": "b4706e43",
   "metadata": {},
   "source": [
    "In the lecture we have discussed some techniques to handle temporal data / time series\n",
    "data.\n",
    "\n",
    "- Select a technique how to represent / process the given data - this could be an\n",
    "explicit or implicit data representation or also a simple statistic like histograms,\n",
    "bit-encodings or alike\n",
    "\n",
    "- Process the data to obtain a meaning and powerful representation\n",
    "\n",
    "- Create a process to obtain a classification or clustering model for the given data.\n",
    "This should include meta parameter optimization.\n",
    "\n",
    "- Provide a brief explanation of the algorithm-design you used"
   ]
  },
  {
   "cell_type": "code",
   "execution_count": 4,
   "id": "f85763d8",
   "metadata": {},
   "outputs": [],
   "source": [
    "PATH = 'train_data/' \n",
    "fileNames = glob.glob(os.path.join(PATH, '*.csv'))\n",
    "\n",
    "dataFrames = []\n",
    "labels = []\n",
    "\n",
    "for fileName in fileNames:\n",
    "  data = []\n",
    "  max_columns = 79\n",
    "  with open(fileName, 'r') as file:\n",
    "    for line in file:\n",
    "        values = line.strip().split(',') \n",
    "        values = values[:max_columns] + ['0'] * (max_columns - len(values)) \n",
    "        data.append(values)\n",
    "\n",
    "  df = pd.DataFrame(data)\n",
    "  df = df.astype(float)\n",
    "  label = fileName.split('_')[2].split('.')[0]\n",
    "  df[\"label\"] = label\n",
    "  labels.append(label)\n",
    "  dataFrames.append(df)"
   ]
  },
  {
   "cell_type": "markdown",
   "id": "e61cd663",
   "metadata": {},
   "source": [
    "Load the Training Data."
   ]
  },
  {
   "cell_type": "code",
   "execution_count": 5,
   "id": "a37566a2",
   "metadata": {},
   "outputs": [
    {
     "name": "stdout",
     "output_type": "stream",
     "text": [
      "guitar\n"
     ]
    },
    {
     "data": {
      "text/html": [
       "<div>\n",
       "<style scoped>\n",
       "    .dataframe tbody tr th:only-of-type {\n",
       "        vertical-align: middle;\n",
       "    }\n",
       "\n",
       "    .dataframe tbody tr th {\n",
       "        vertical-align: top;\n",
       "    }\n",
       "\n",
       "    .dataframe thead th {\n",
       "        text-align: right;\n",
       "    }\n",
       "</style>\n",
       "<table border=\"1\" class=\"dataframe\">\n",
       "  <thead>\n",
       "    <tr style=\"text-align: right;\">\n",
       "      <th></th>\n",
       "      <th>0</th>\n",
       "      <th>1</th>\n",
       "      <th>2</th>\n",
       "      <th>3</th>\n",
       "      <th>4</th>\n",
       "      <th>5</th>\n",
       "      <th>6</th>\n",
       "      <th>7</th>\n",
       "      <th>8</th>\n",
       "      <th>9</th>\n",
       "      <th>...</th>\n",
       "      <th>70</th>\n",
       "      <th>71</th>\n",
       "      <th>72</th>\n",
       "      <th>73</th>\n",
       "      <th>74</th>\n",
       "      <th>75</th>\n",
       "      <th>76</th>\n",
       "      <th>77</th>\n",
       "      <th>78</th>\n",
       "      <th>label</th>\n",
       "    </tr>\n",
       "  </thead>\n",
       "  <tbody>\n",
       "    <tr>\n",
       "      <th>0</th>\n",
       "      <td>267.832916</td>\n",
       "      <td>102.939423</td>\n",
       "      <td>0.904429</td>\n",
       "      <td>265.803589</td>\n",
       "      <td>195.380707</td>\n",
       "      <td>0.823428</td>\n",
       "      <td>195.430893</td>\n",
       "      <td>189.420029</td>\n",
       "      <td>0.743621</td>\n",
       "      <td>167.256393</td>\n",
       "      <td>...</td>\n",
       "      <td>0.000000</td>\n",
       "      <td>0.0</td>\n",
       "      <td>0.000000</td>\n",
       "      <td>0.000000</td>\n",
       "      <td>0.0</td>\n",
       "      <td>0.0</td>\n",
       "      <td>0.0</td>\n",
       "      <td>0.0</td>\n",
       "      <td>0.0</td>\n",
       "      <td>guitar</td>\n",
       "    </tr>\n",
       "    <tr>\n",
       "      <th>1</th>\n",
       "      <td>268.000000</td>\n",
       "      <td>103.000000</td>\n",
       "      <td>1.000000</td>\n",
       "      <td>266.000000</td>\n",
       "      <td>195.000000</td>\n",
       "      <td>1.000000</td>\n",
       "      <td>194.000000</td>\n",
       "      <td>190.000000</td>\n",
       "      <td>1.000000</td>\n",
       "      <td>167.000000</td>\n",
       "      <td>...</td>\n",
       "      <td>-9.904541</td>\n",
       "      <td>0.0</td>\n",
       "      <td>14.321317</td>\n",
       "      <td>-9.904541</td>\n",
       "      <td>0.0</td>\n",
       "      <td>0.0</td>\n",
       "      <td>0.0</td>\n",
       "      <td>0.0</td>\n",
       "      <td>0.0</td>\n",
       "      <td>guitar</td>\n",
       "    </tr>\n",
       "    <tr>\n",
       "      <th>2</th>\n",
       "      <td>268.000000</td>\n",
       "      <td>103.000000</td>\n",
       "      <td>1.000000</td>\n",
       "      <td>266.000000</td>\n",
       "      <td>195.000000</td>\n",
       "      <td>1.000000</td>\n",
       "      <td>194.000000</td>\n",
       "      <td>190.000000</td>\n",
       "      <td>1.000000</td>\n",
       "      <td>166.000000</td>\n",
       "      <td>...</td>\n",
       "      <td>-6.042427</td>\n",
       "      <td>0.0</td>\n",
       "      <td>14.700504</td>\n",
       "      <td>-6.042427</td>\n",
       "      <td>0.0</td>\n",
       "      <td>0.0</td>\n",
       "      <td>0.0</td>\n",
       "      <td>0.0</td>\n",
       "      <td>0.0</td>\n",
       "      <td>guitar</td>\n",
       "    </tr>\n",
       "    <tr>\n",
       "      <th>3</th>\n",
       "      <td>268.000000</td>\n",
       "      <td>103.000000</td>\n",
       "      <td>1.000000</td>\n",
       "      <td>266.000000</td>\n",
       "      <td>195.000000</td>\n",
       "      <td>1.000000</td>\n",
       "      <td>194.000000</td>\n",
       "      <td>190.000000</td>\n",
       "      <td>1.000000</td>\n",
       "      <td>166.000000</td>\n",
       "      <td>...</td>\n",
       "      <td>-6.225548</td>\n",
       "      <td>0.0</td>\n",
       "      <td>14.226654</td>\n",
       "      <td>-6.225548</td>\n",
       "      <td>0.0</td>\n",
       "      <td>0.0</td>\n",
       "      <td>0.0</td>\n",
       "      <td>0.0</td>\n",
       "      <td>0.0</td>\n",
       "      <td>guitar</td>\n",
       "    </tr>\n",
       "    <tr>\n",
       "      <th>4</th>\n",
       "      <td>268.000000</td>\n",
       "      <td>103.000000</td>\n",
       "      <td>1.000000</td>\n",
       "      <td>266.000000</td>\n",
       "      <td>195.000000</td>\n",
       "      <td>1.000000</td>\n",
       "      <td>194.000000</td>\n",
       "      <td>190.000000</td>\n",
       "      <td>1.000000</td>\n",
       "      <td>166.000000</td>\n",
       "      <td>...</td>\n",
       "      <td>-6.512611</td>\n",
       "      <td>0.0</td>\n",
       "      <td>14.203239</td>\n",
       "      <td>-6.512611</td>\n",
       "      <td>0.0</td>\n",
       "      <td>0.0</td>\n",
       "      <td>0.0</td>\n",
       "      <td>0.0</td>\n",
       "      <td>0.0</td>\n",
       "      <td>guitar</td>\n",
       "    </tr>\n",
       "  </tbody>\n",
       "</table>\n",
       "<p>5 rows × 80 columns</p>\n",
       "</div>"
      ],
      "text/plain": [
       "            0           1         2           3           4         5  \\\n",
       "0  267.832916  102.939423  0.904429  265.803589  195.380707  0.823428   \n",
       "1  268.000000  103.000000  1.000000  266.000000  195.000000  1.000000   \n",
       "2  268.000000  103.000000  1.000000  266.000000  195.000000  1.000000   \n",
       "3  268.000000  103.000000  1.000000  266.000000  195.000000  1.000000   \n",
       "4  268.000000  103.000000  1.000000  266.000000  195.000000  1.000000   \n",
       "\n",
       "            6           7         8           9  ...        70   71  \\\n",
       "0  195.430893  189.420029  0.743621  167.256393  ...  0.000000  0.0   \n",
       "1  194.000000  190.000000  1.000000  167.000000  ... -9.904541  0.0   \n",
       "2  194.000000  190.000000  1.000000  166.000000  ... -6.042427  0.0   \n",
       "3  194.000000  190.000000  1.000000  166.000000  ... -6.225548  0.0   \n",
       "4  194.000000  190.000000  1.000000  166.000000  ... -6.512611  0.0   \n",
       "\n",
       "          72        73   74   75   76   77   78   label  \n",
       "0   0.000000  0.000000  0.0  0.0  0.0  0.0  0.0  guitar  \n",
       "1  14.321317 -9.904541  0.0  0.0  0.0  0.0  0.0  guitar  \n",
       "2  14.700504 -6.042427  0.0  0.0  0.0  0.0  0.0  guitar  \n",
       "3  14.226654 -6.225548  0.0  0.0  0.0  0.0  0.0  guitar  \n",
       "4  14.203239 -6.512611  0.0  0.0  0.0  0.0  0.0  guitar  \n",
       "\n",
       "[5 rows x 80 columns]"
      ]
     },
     "execution_count": 5,
     "metadata": {},
     "output_type": "execute_result"
    }
   ],
   "source": [
    "print(labels[0])\n",
    "dataFrames[0].head()"
   ]
  },
  {
   "cell_type": "markdown",
   "id": "43866067",
   "metadata": {},
   "source": [
    "Concatenate all DataFrames."
   ]
  },
  {
   "cell_type": "code",
   "execution_count": 6,
   "id": "b36b923f",
   "metadata": {},
   "outputs": [],
   "source": [
    "total_df = pd.concat(dataFrames)\n",
    "total_df.reset_index(inplace=True)\n",
    "total_df.drop('index', axis=1, inplace=True)"
   ]
  },
  {
   "cell_type": "code",
   "execution_count": 7,
   "id": "3dd6ea3c",
   "metadata": {
    "scrolled": true
   },
   "outputs": [
    {
     "data": {
      "text/html": [
       "<div>\n",
       "<style scoped>\n",
       "    .dataframe tbody tr th:only-of-type {\n",
       "        vertical-align: middle;\n",
       "    }\n",
       "\n",
       "    .dataframe tbody tr th {\n",
       "        vertical-align: top;\n",
       "    }\n",
       "\n",
       "    .dataframe thead th {\n",
       "        text-align: right;\n",
       "    }\n",
       "</style>\n",
       "<table border=\"1\" class=\"dataframe\">\n",
       "  <thead>\n",
       "    <tr style=\"text-align: right;\">\n",
       "      <th></th>\n",
       "      <th>0</th>\n",
       "      <th>1</th>\n",
       "      <th>2</th>\n",
       "      <th>3</th>\n",
       "      <th>4</th>\n",
       "      <th>5</th>\n",
       "      <th>6</th>\n",
       "      <th>7</th>\n",
       "      <th>8</th>\n",
       "      <th>9</th>\n",
       "      <th>...</th>\n",
       "      <th>70</th>\n",
       "      <th>71</th>\n",
       "      <th>72</th>\n",
       "      <th>73</th>\n",
       "      <th>74</th>\n",
       "      <th>75</th>\n",
       "      <th>76</th>\n",
       "      <th>77</th>\n",
       "      <th>78</th>\n",
       "      <th>label</th>\n",
       "    </tr>\n",
       "  </thead>\n",
       "  <tbody>\n",
       "    <tr>\n",
       "      <th>0</th>\n",
       "      <td>267.832916</td>\n",
       "      <td>102.939423</td>\n",
       "      <td>0.904429</td>\n",
       "      <td>265.803589</td>\n",
       "      <td>195.380707</td>\n",
       "      <td>0.823428</td>\n",
       "      <td>195.430893</td>\n",
       "      <td>189.420029</td>\n",
       "      <td>0.743621</td>\n",
       "      <td>167.256393</td>\n",
       "      <td>...</td>\n",
       "      <td>0.000000</td>\n",
       "      <td>0.0</td>\n",
       "      <td>0.000000</td>\n",
       "      <td>0.000000</td>\n",
       "      <td>0.0</td>\n",
       "      <td>0.0</td>\n",
       "      <td>0.0</td>\n",
       "      <td>0.0</td>\n",
       "      <td>0.0</td>\n",
       "      <td>guitar</td>\n",
       "    </tr>\n",
       "    <tr>\n",
       "      <th>1</th>\n",
       "      <td>268.000000</td>\n",
       "      <td>103.000000</td>\n",
       "      <td>1.000000</td>\n",
       "      <td>266.000000</td>\n",
       "      <td>195.000000</td>\n",
       "      <td>1.000000</td>\n",
       "      <td>194.000000</td>\n",
       "      <td>190.000000</td>\n",
       "      <td>1.000000</td>\n",
       "      <td>167.000000</td>\n",
       "      <td>...</td>\n",
       "      <td>-9.904541</td>\n",
       "      <td>0.0</td>\n",
       "      <td>14.321317</td>\n",
       "      <td>-9.904541</td>\n",
       "      <td>0.0</td>\n",
       "      <td>0.0</td>\n",
       "      <td>0.0</td>\n",
       "      <td>0.0</td>\n",
       "      <td>0.0</td>\n",
       "      <td>guitar</td>\n",
       "    </tr>\n",
       "    <tr>\n",
       "      <th>2</th>\n",
       "      <td>268.000000</td>\n",
       "      <td>103.000000</td>\n",
       "      <td>1.000000</td>\n",
       "      <td>266.000000</td>\n",
       "      <td>195.000000</td>\n",
       "      <td>1.000000</td>\n",
       "      <td>194.000000</td>\n",
       "      <td>190.000000</td>\n",
       "      <td>1.000000</td>\n",
       "      <td>166.000000</td>\n",
       "      <td>...</td>\n",
       "      <td>-6.042427</td>\n",
       "      <td>0.0</td>\n",
       "      <td>14.700504</td>\n",
       "      <td>-6.042427</td>\n",
       "      <td>0.0</td>\n",
       "      <td>0.0</td>\n",
       "      <td>0.0</td>\n",
       "      <td>0.0</td>\n",
       "      <td>0.0</td>\n",
       "      <td>guitar</td>\n",
       "    </tr>\n",
       "    <tr>\n",
       "      <th>3</th>\n",
       "      <td>268.000000</td>\n",
       "      <td>103.000000</td>\n",
       "      <td>1.000000</td>\n",
       "      <td>266.000000</td>\n",
       "      <td>195.000000</td>\n",
       "      <td>1.000000</td>\n",
       "      <td>194.000000</td>\n",
       "      <td>190.000000</td>\n",
       "      <td>1.000000</td>\n",
       "      <td>166.000000</td>\n",
       "      <td>...</td>\n",
       "      <td>-6.225548</td>\n",
       "      <td>0.0</td>\n",
       "      <td>14.226654</td>\n",
       "      <td>-6.225548</td>\n",
       "      <td>0.0</td>\n",
       "      <td>0.0</td>\n",
       "      <td>0.0</td>\n",
       "      <td>0.0</td>\n",
       "      <td>0.0</td>\n",
       "      <td>guitar</td>\n",
       "    </tr>\n",
       "    <tr>\n",
       "      <th>4</th>\n",
       "      <td>268.000000</td>\n",
       "      <td>103.000000</td>\n",
       "      <td>1.000000</td>\n",
       "      <td>266.000000</td>\n",
       "      <td>195.000000</td>\n",
       "      <td>1.000000</td>\n",
       "      <td>194.000000</td>\n",
       "      <td>190.000000</td>\n",
       "      <td>1.000000</td>\n",
       "      <td>166.000000</td>\n",
       "      <td>...</td>\n",
       "      <td>-6.512611</td>\n",
       "      <td>0.0</td>\n",
       "      <td>14.203239</td>\n",
       "      <td>-6.512611</td>\n",
       "      <td>0.0</td>\n",
       "      <td>0.0</td>\n",
       "      <td>0.0</td>\n",
       "      <td>0.0</td>\n",
       "      <td>0.0</td>\n",
       "      <td>guitar</td>\n",
       "    </tr>\n",
       "  </tbody>\n",
       "</table>\n",
       "<p>5 rows × 80 columns</p>\n",
       "</div>"
      ],
      "text/plain": [
       "            0           1         2           3           4         5  \\\n",
       "0  267.832916  102.939423  0.904429  265.803589  195.380707  0.823428   \n",
       "1  268.000000  103.000000  1.000000  266.000000  195.000000  1.000000   \n",
       "2  268.000000  103.000000  1.000000  266.000000  195.000000  1.000000   \n",
       "3  268.000000  103.000000  1.000000  266.000000  195.000000  1.000000   \n",
       "4  268.000000  103.000000  1.000000  266.000000  195.000000  1.000000   \n",
       "\n",
       "            6           7         8           9  ...        70   71  \\\n",
       "0  195.430893  189.420029  0.743621  167.256393  ...  0.000000  0.0   \n",
       "1  194.000000  190.000000  1.000000  167.000000  ... -9.904541  0.0   \n",
       "2  194.000000  190.000000  1.000000  166.000000  ... -6.042427  0.0   \n",
       "3  194.000000  190.000000  1.000000  166.000000  ... -6.225548  0.0   \n",
       "4  194.000000  190.000000  1.000000  166.000000  ... -6.512611  0.0   \n",
       "\n",
       "          72        73   74   75   76   77   78   label  \n",
       "0   0.000000  0.000000  0.0  0.0  0.0  0.0  0.0  guitar  \n",
       "1  14.321317 -9.904541  0.0  0.0  0.0  0.0  0.0  guitar  \n",
       "2  14.700504 -6.042427  0.0  0.0  0.0  0.0  0.0  guitar  \n",
       "3  14.226654 -6.225548  0.0  0.0  0.0  0.0  0.0  guitar  \n",
       "4  14.203239 -6.512611  0.0  0.0  0.0  0.0  0.0  guitar  \n",
       "\n",
       "[5 rows x 80 columns]"
      ]
     },
     "execution_count": 7,
     "metadata": {},
     "output_type": "execute_result"
    }
   ],
   "source": [
    "total_df.head()"
   ]
  },
  {
   "cell_type": "code",
   "execution_count": 8,
   "id": "26b984f6",
   "metadata": {},
   "outputs": [],
   "source": [
    "body_angles = total_df.iloc[:,[75,76,77,78]]\n",
    "train = total_df.drop(columns=[75,76,77,78],axis=1)"
   ]
  },
  {
   "cell_type": "markdown",
   "id": "1f9aa3c5",
   "metadata": {},
   "source": [
    "Filtering the columns based on the confidence values"
   ]
  },
  {
   "cell_type": "code",
   "execution_count": 9,
   "id": "573a20b2",
   "metadata": {},
   "outputs": [],
   "source": [
    "body_joints = [\"IDX_NOSE\", \"IDX_NECK\" , \"IDX_R_SHOULDER\" , \"IDX_R_ELBOW\", \"IDX_R_WRIST\" , \"IDX_L_SHOULDER\", \"IDX_L_ELBOW\" , \"IDX_L_WRIST\",\n",
    "\"IDX_M_HIP\", \"IDX_R_HIP\", \"IDX_R_KNEE\", \"IDX_R_ANKLE\" , \"IDX_L_HIP\", \"IDX_L_KNEE\" ,\"IDX_L_ANKLE\", \"IDX_R_EYE\" , \"IDX_L_EYE\", \"IDX_R_EAR\",\n",
    "\"IDX_L_EAR\", \"IDX_L_BIG_TOE\", \"IDX_L_SMALL_TOE\", \"IDX_L_HEEL\" , \"IDX_R_BIG_TOE\", \"IDX_R_SMALL_TOE\", \"IDX_R_HEEl\"]"
   ]
  },
  {
   "cell_type": "markdown",
   "id": "38bf5a52",
   "metadata": {},
   "source": [
    "Remove columns with low confidence."
   ]
  },
  {
   "cell_type": "code",
   "execution_count": 10,
   "id": "e3336b55",
   "metadata": {},
   "outputs": [],
   "source": [
    "columns_above_90_ZERO_confidence = []\n",
    "for body_joint , column_int in zip(body_joints, range(2,75,3)):\n",
    "    zeros_out = train[train[column_int]==0].shape[0]\n",
    "    total_percentage = (zeros_out/len(train))*100\n",
    "    if  total_percentage > 90:\n",
    "        columns_above_90_ZERO_confidence.append((body_joint, column_int))"
   ]
  },
  {
   "cell_type": "code",
   "execution_count": 11,
   "id": "2cab4da5",
   "metadata": {},
   "outputs": [],
   "source": [
    "columns_to_drop = []\n",
    "\n",
    "for columns in columns_above_90_ZERO_confidence:\n",
    "    columns_to_drop += [columns[1]-2, columns[1]-1,columns[1]]"
   ]
  },
  {
   "cell_type": "code",
   "execution_count": 12,
   "id": "a5688734",
   "metadata": {},
   "outputs": [],
   "source": [
    "train = train.drop(columns=columns_to_drop)\n",
    "confidence_columns = train.columns[2::3]\n",
    "train = train.drop(columns= confidence_columns)"
   ]
  },
  {
   "cell_type": "code",
   "execution_count": 13,
   "id": "f179adf3",
   "metadata": {},
   "outputs": [],
   "source": [
    "main_train = pd.concat([train,body_angles] ,axis=1)\n",
    "\n",
    "features = main_train.drop('label',axis=1)\n",
    "labels = main_train['label']"
   ]
  },
  {
   "cell_type": "code",
   "execution_count": 14,
   "id": "b3f5eded",
   "metadata": {},
   "outputs": [],
   "source": [
    "activity_labels = {\n",
    "    'boxing':0,\n",
    "    'drums':1,\n",
    "    'guitar':2,\n",
    "    'rowing':3,\n",
    "    'violin':4\n",
    "}\n",
    "\n",
    "labels = main_train['label']\n",
    "\n",
    "labels = labels.map(activity_labels)\n",
    "\n",
    "train_split = int(features.shape[0]*0.75)\n",
    "\n",
    "X_train = features[:train_split]\n",
    "y_train = labels[:train_split]\n",
    "X_val = features[train_split:]\n",
    "y_val = labels[train_split:]\n",
    "\n",
    "scaler = StandardScaler()\n",
    "\n",
    "X_train_scaled = scaler.fit_transform(X_train)\n",
    "X_val_scaled = scaler.transform(X_val)"
   ]
  },
  {
   "cell_type": "code",
   "execution_count": 15,
   "id": "fdf25170",
   "metadata": {},
   "outputs": [
    {
     "name": "stdout",
     "output_type": "stream",
     "text": [
      "X_train shape:  (485676, 38)\n",
      "y_train shape:  (485676,)\n",
      "X_test shape:  (161892, 38)\n",
      "y_test shape:  (161892,)\n"
     ]
    }
   ],
   "source": [
    "print('X_train shape: ', X_train.shape)\n",
    "print('y_train shape: ', y_train.shape)\n",
    "print('X_test shape: ', X_val.shape)\n",
    "print('y_test shape: ', y_val.shape)"
   ]
  },
  {
   "cell_type": "markdown",
   "id": "0569dfb0",
   "metadata": {},
   "source": [
    "### Random Forest"
   ]
  },
  {
   "cell_type": "code",
   "execution_count": 16,
   "id": "7ad70990",
   "metadata": {},
   "outputs": [
    {
     "name": "stdout",
     "output_type": "stream",
     "text": [
      "Training time: 329.394109249115 seconds\n",
      "Test accuracy: 0.9752118696414894\n"
     ]
    }
   ],
   "source": [
    "random_forest = RandomForestClassifier(n_estimators=100, random_state=12)\n",
    "\n",
    "start_time = time.time()\n",
    "\n",
    "random_forest.fit(X_train_scaled, y_train)\n",
    "end_time = time.time()\n",
    "training_time = end_time - start_time\n",
    "print(f'Training time: {training_time} seconds')\n",
    "\n",
    "y_pred = random_forest.predict(X_val_scaled)\n",
    "\n",
    "print(f'Test accuracy: {accuracy_score(y_val, y_pred)}')"
   ]
  },
  {
   "cell_type": "code",
   "execution_count": 17,
   "id": "8e05ed42",
   "metadata": {},
   "outputs": [
    {
     "name": "stdout",
     "output_type": "stream",
     "text": [
      "              precision    recall  f1-score   support\n",
      "\n",
      "           0       0.96      0.97      0.96     29818\n",
      "           1       0.98      0.98      0.98     35198\n",
      "           2       0.99      0.96      0.97     32028\n",
      "           3       0.98      0.98      0.98     33102\n",
      "           4       0.97      0.99      0.98     31746\n",
      "\n",
      "    accuracy                           0.98    161892\n",
      "   macro avg       0.97      0.97      0.97    161892\n",
      "weighted avg       0.98      0.98      0.98    161892\n",
      "\n"
     ]
    }
   ],
   "source": [
    "print(classification_report(y_val, y_pred))"
   ]
  },
  {
   "cell_type": "code",
   "execution_count": 18,
   "id": "5a1d44ee",
   "metadata": {},
   "outputs": [
    {
     "data": {
      "image/png": "[encoded data removed]",
      "text/plain": [
       "<Figure size 640x480 with 2 Axes>"
      ]
     },
     "metadata": {},
     "output_type": "display_data"
    }
   ],
   "source": [
    "labels = ['boxing', 'drums', 'guitar', 'rowing', 'violin']\n",
    "\n",
    "cm = confusion_matrix(y_val, y_pred)\n",
    "cm_display = ConfusionMatrixDisplay(cm, display_labels=labels).plot()\n",
    "plt.show()"
   ]
  },
  {
   "cell_type": "markdown",
   "id": "1b077170",
   "metadata": {},
   "source": [
    "### XGB Model"
   ]
  },
  {
   "cell_type": "code",
   "execution_count": 19,
   "id": "d4a4ac70",
   "metadata": {},
   "outputs": [
    {
     "name": "stdout",
     "output_type": "stream",
     "text": [
      "Training time: 285.48625802993774 seconds\n",
      "Test accuracy: 0.968213376819114\n"
     ]
    }
   ],
   "source": [
    "xgb_model = xgb.XGBClassifier(n_estimators=200, learning_rate=0.1)\n",
    "\n",
    "start_time = time.time()\n",
    "\n",
    "xgb_model.fit(X_train, y_train)\n",
    "end_time = time.time()\n",
    "\n",
    "training_time = end_time - start_time\n",
    "print(f'Training time: {training_time} seconds')\n",
    "\n",
    "y_pred = xgb_model.predict(X_val)\n",
    "print(f'Test accuracy: {accuracy_score(y_val, y_pred)}')"
   ]
  },
  {
   "cell_type": "code",
   "execution_count": 20,
   "id": "96f5b625",
   "metadata": {
    "scrolled": true
   },
   "outputs": [
    {
     "name": "stdout",
     "output_type": "stream",
     "text": [
      "              precision    recall  f1-score   support\n",
      "\n",
      "           0       0.96      0.95      0.95     29818\n",
      "           1       0.97      0.98      0.97     35198\n",
      "           2       0.98      0.96      0.97     32028\n",
      "           3       0.98      0.97      0.97     33102\n",
      "           4       0.96      0.98      0.97     31746\n",
      "\n",
      "    accuracy                           0.97    161892\n",
      "   macro avg       0.97      0.97      0.97    161892\n",
      "weighted avg       0.97      0.97      0.97    161892\n",
      "\n"
     ]
    }
   ],
   "source": [
    "print(classification_report(y_val, y_pred))"
   ]
  },
  {
   "cell_type": "code",
   "execution_count": 21,
   "id": "8dfed844",
   "metadata": {},
   "outputs": [
    {
     "data": {
      "image/png": "[encoded data removed]",
      "text/plain": [
       "<Figure size 640x480 with 2 Axes>"
      ]
     },
     "metadata": {},
     "output_type": "display_data"
    }
   ],
   "source": [
    "labels = ['boxing', 'drums', 'guitar', 'rowing', 'violin']\n",
    "\n",
    "cm = confusion_matrix(y_val, y_pred)\n",
    "cm_display = ConfusionMatrixDisplay(cm, display_labels=labels).plot()\n",
    "plt.show()"
   ]
  },
  {
   "cell_type": "markdown",
   "id": "4a5f4b0d",
   "metadata": {},
   "source": [
    "Predictions"
   ]
  },
  {
   "cell_type": "code",
   "execution_count": 22,
   "id": "1afd5725",
   "metadata": {},
   "outputs": [],
   "source": [
    "from collections import Counter\n",
    "\n",
    "PATH = 'test_data/' \n",
    "fileNames = glob.glob(os.path.join(PATH, '*.csv'))\n",
    "\n",
    "numbers = [int(os.path.splitext(os.path.basename(file))[0]) for file in fileNames]\n",
    "\n",
    "sorted_indices = sorted(range(len(numbers)), key=lambda k: numbers[k])\n",
    "sorted_files = [fileNames[i] for i in sorted_indices]\n",
    "\n",
    "dataFrames_test = []\n",
    "index = []\n",
    "results = []\n",
    "\n",
    "for fileName in sorted_files:\n",
    "\n",
    "   data = []\n",
    "   max_columns = 79\n",
    "   with open(fileName, 'r') as file:\n",
    "     for line in file:\n",
    "         values = line.strip().split(',')  \n",
    "         values = values[:max_columns] + ['0'] * (max_columns - len(values))  \n",
    "         data.append(values)\n",
    "\n",
    "   start_idx = len(data) // 2\n",
    "   \n",
    "   # Select only the second half of the dataframe\n",
    "   test_data = pd.DataFrame(data).astype(float).iloc[start_idx:]\n",
    "   test_data = test_data[features.columns]\n",
    "   predictions = xgb_model.predict(test_data)\n",
    "   most_common_prediction = Counter(predictions).most_common(1)[0][0]       \n",
    "\n",
    "   df = pd.DataFrame(data)\n",
    "   df = df.astype(float)\n",
    "   df = df.dropna()\n",
    "   index.append(int(fileName.split('/')[1].split('.')[0]))\n",
    "   dataFrames_test.append(df)\n",
    "   results.append({'id': int(fileName.split('/')[1].split('.')[0]), 'action': most_common_prediction})\n",
    "   \n",
    "predictions_df = pd.DataFrame(results)"
   ]
  },
  {
   "cell_type": "code",
   "execution_count": 23,
   "id": "26c42254",
   "metadata": {},
   "outputs": [],
   "source": [
    "predictions_df['id'] = pd.to_numeric(predictions_df['id'])\n",
    "predictions_df = predictions_df.sort_values(by='id')"
   ]
  },
  {
   "cell_type": "code",
   "execution_count": 24,
   "id": "53b2acae",
   "metadata": {},
   "outputs": [],
   "source": [
    "predictions_df.to_csv('XGB_Boost.csv', index = False)"
   ]
  },
  {
   "cell_type": "markdown",
   "id": "30f8932b",
   "metadata": {},
   "source": [
    "## Exercise3: Evaluation\n",
    "- Estimate theoretical and practical the memory and runtime complexity of your\n",
    "approach - make a distinction between training and test. Address also the sparsity of your model.\n",
    "- Evaluate the resulting model by appropriate evaluation measures (cross-\n",
    "validation,AUC,NMI or alike)"
   ]
  },
  {
   "cell_type": "markdown",
   "id": "276b6b76",
   "metadata": {},
   "source": [
    "### Theoretical Complexity of Runtime: \n",
    "Define:\n",
    "- $N$: number of samples in the training set\n",
    "- $M$: number of features in the training set\n",
    "- $T$: number of trees in the forest\n",
    "\n",
    "Training and testing complexities:\n",
    "- Model Training: $\\mathcal{O}(T \\cdot N \\cdot M \\cdot \\log N)$\n",
    "- Model Testing: $\\mathcal{O}(T \\cdot \\log N)$ \n",
    "\n",
    "\n",
    "### Theoretical Complexity of Memory: \n",
    "- $\\mathcal{O}(T \\cdot N \\cdot M)$ for storing the entire Random Forest in the memory"
   ]
  },
  {
   "cell_type": "code",
   "execution_count": 47,
   "id": "d9919ea6",
   "metadata": {},
   "outputs": [],
   "source": [
    "sample_list = list(range(10_000, 130_000, 20_000))\n",
    "ex_time_list = []\n",
    "mem_time_list = []\n",
    "\n",
    "def calc_memory_and_time(func):\n",
    "    def wrapper_func(*args, **kwargs):\n",
    "        global ex_time_list\n",
    "        global mem_time_list\n",
    "        tracemalloc.start()\n",
    "\n",
    "        start1 = time.time()\n",
    "        func(*args, **kwargs)\n",
    "        end1 = time.time()\n",
    "\n",
    "        mem = tracemalloc.get_traced_memory()\n",
    "\n",
    "        tracemalloc.stop()\n",
    "\n",
    "        print(\"Current memory usage for {} is {} MB; Peak was {} MB\".format(func.__name__, mem[0] / 10 ** 6, mem[1] / 10 ** 6))\n",
    "        print(\"Total time needed for {} is {} seconds\".format(func.__name__, end1 - start1))\n",
    "\n",
    "        ex_time_list.append(end1 - start1)\n",
    "        mem_time_list.append(mem[1] / 10 ** 6)\n",
    "\n",
    "    return wrapper_func\n",
    "\n",
    "\n",
    "@calc_memory_and_time\n",
    "def train(rfc, size):\n",
    "    rfc.fit(X_train[:size], y_train[:size])\n",
    "\n",
    "@calc_memory_and_time\n",
    "def predict(rfc, size):\n",
    "    y_pred = rfc.predict(X_val[:size])\n",
    "\n",
    "\n",
    "def plot_mem_time():\n",
    "    ex_time_train = []\n",
    "    ex_time_predict = []\n",
    "    mem_train = []\n",
    "    mem_predict = []\n",
    "    global ex_time_list, mem_time_list\n",
    "\n",
    "    for size in sample_list:\n",
    "        print(\"\\n\\nFor sample size {}\".format(size))\n",
    "        rfc = RandomForestClassifier(\n",
    "            criterion=\"entropy\",\n",
    "            max_depth=8,\n",
    "            max_features=\"log2\",\n",
    "            min_samples_split=10,\n",
    "            n_estimators=200,\n",
    "            verbose=0\n",
    "        )\n",
    "\n",
    "        train(rfc, size)\n",
    "        predict(rfc, size)\n",
    "    \n",
    "    ex_time_train = ex_time_list[::2]\n",
    "    ex_time_predict = ex_time_list[1::2]\n",
    "    mem_train = mem_time_list[::2]\n",
    "    mem_predict = mem_time_list[1::2]\n",
    "    \n",
    "    plt.figure(figsize=(10, 5))\n",
    "    plt.plot(sample_list, ex_time_train, label=\"Training time\")\n",
    "    plt.plot(sample_list, ex_time_predict, label=\"Prediction time\")\n",
    "    plt.xlabel(\"Sample size\")\n",
    "    plt.ylabel(\"Time (s)\")\n",
    "    plt.legend()\n",
    "    plt.show()\n",
    "\n",
    "    plt.figure(figsize=(10, 5))\n",
    "    plt.plot(sample_list, mem_train, label=\"Training memory\")\n",
    "    plt.plot(sample_list, mem_predict, label=\"Prediction memory\")\n",
    "    plt.xlabel(\"Sample size\")\n",
    "    plt.ylabel(\"Memory (MB)\")\n",
    "    plt.legend()\n",
    "    plt.show()\n"
   ]
  },
  {
   "cell_type": "code",
   "execution_count": 48,
   "id": "347cff5b",
   "metadata": {},
   "outputs": [
    {
     "name": "stdout",
     "output_type": "stream",
     "text": [
      "\n",
      "\n",
      "For sample size 10000\n",
      "Current memory usage for train is 0.148916 MB; Peak was 4.569779 MB\n",
      "Total time needed for train is 6.504895448684692 seconds\n",
      "Current memory usage for predict is 0.006596 MB; Peak was 4.563822 MB\n",
      "Total time needed for predict is 0.33094358444213867 seconds\n",
      "\n",
      "\n",
      "For sample size 30000\n",
      "Current memory usage for train is 0.135464 MB; Peak was 13.68503 MB\n",
      "Total time needed for train is 20.597084760665894 seconds\n",
      "Current memory usage for predict is 0.006666 MB; Peak was 13.684382 MB\n",
      "Total time needed for predict is 0.8592758178710938 seconds\n",
      "\n",
      "\n",
      "For sample size 50000\n",
      "Current memory usage for train is 0.138497 MB; Peak was 22.80503 MB\n",
      "Total time needed for train is 28.66165280342102 seconds\n",
      "Current memory usage for predict is 0.00547 MB; Peak was 22.803846 MB\n",
      "Total time needed for predict is 1.3496387004852295 seconds\n",
      "\n",
      "\n",
      "For sample size 70000\n",
      "Current memory usage for train is 0.135891 MB; Peak was 31.92503 MB\n",
      "Total time needed for train is 43.33964490890503 seconds\n",
      "Current memory usage for predict is 0.005428 MB; Peak was 31.923846 MB\n",
      "Total time needed for predict is 2.023085117340088 seconds\n",
      "\n",
      "\n",
      "For sample size 90000\n",
      "Current memory usage for train is 0.143678 MB; Peak was 41.044691 MB\n",
      "Total time needed for train is 57.8173348903656 seconds\n",
      "Current memory usage for predict is 0.007905 MB; Peak was 41.044622 MB\n",
      "Total time needed for predict is 2.1238253116607666 seconds\n",
      "\n",
      "\n",
      "For sample size 110000\n",
      "Current memory usage for train is 0.133937 MB; Peak was 50.16503 MB\n",
      "Total time needed for train is 68.9633457660675 seconds\n",
      "Current memory usage for predict is 0.005428 MB; Peak was 50.163846 MB\n",
      "Total time needed for predict is 2.533951997756958 seconds\n"
     ]
    },
    {
     "data": {
      "image/png": "[encoded data removed]",
      "text/plain": [
       "<Figure size 1000x500 with 1 Axes>"
      ]
     },
     "metadata": {},
     "output_type": "display_data"
    },
    {
     "data": {
      "image/png": "[encoded data removed]",
      "text/plain": [
       "<Figure size 1000x500 with 1 Axes>"
      ]
     },
     "metadata": {},
     "output_type": "display_data"
    }
   ],
   "source": [
    "plot_mem_time()"
   ]
  }
 ],
 "metadata": {
  "kernelspec": {
   "display_name": "Python 3 (ipykernel)",
   "language": "python",
   "name": "python3"
  },
  "language_info": {
   "codemirror_mode": {
    "name": "ipython",
    "version": 3
   },
   "file_extension": ".py",
   "mimetype": "text/x-python",
   "name": "python",
   "nbconvert_exporter": "python",
   "pygments_lexer": "ipython3",
   "version": "3.8.10"
  }
 },
 "nbformat": 4,
 "nbformat_minor": 5
}
